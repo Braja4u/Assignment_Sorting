{
 "cells": [
  {
   "cell_type": "code",
   "execution_count": 2,
   "id": "017dcba2-abe3-4211-9f8c-b630ce1e35c3",
   "metadata": {},
   "outputs": [
    {
     "name": "stdout",
     "output_type": "stream",
     "text": [
      "30\n"
     ]
    }
   ],
   "source": [
    "# Problem 1.Given an array of n numbers, give an algorithm which gives the element appearing maximum number of times?\n",
    "\n",
    "# frequent element in an array. \n",
    "def mostFrequent(arr, n): \n",
    "  maxcount = 0; \n",
    "  element_having_max_freq = 0; \n",
    "  for i in range(0, n): \n",
    "    count = 0\n",
    "    for j in range(0, n): \n",
    "      if(arr[i] == arr[j]): \n",
    "        count += 1\n",
    "    if(count > maxcount): \n",
    "      maxcount = count \n",
    "      element_having_max_freq = arr[i] \n",
    "    \n",
    "  return element_having_max_freq; \n",
    "  \n",
    "# Driver Code \n",
    "arr = [40,50,30,40,50,30,30] \n",
    "n = len(arr) \n",
    "print(mostFrequent(arr, n)) "
   ]
  },
  {
   "cell_type": "code",
   "execution_count": 3,
   "id": "ff41e92f-d7a7-4949-a3b6-5e92d38f0d40",
   "metadata": {},
   "outputs": [
    {
     "name": "stdout",
     "output_type": "stream",
     "text": [
      "5\n"
     ]
    }
   ],
   "source": [
    "# Problem 2 : We are given a list of n-1 integers and these integers are in the range of 1 to n . There are no\n",
    "# duplicates in the list. One of the integers is missing in the list. Give an algorithm to find that element Ex:\n",
    "# [1,2,4,6,3,7,8] 5 is the missing num.\n",
    "\n",
    "# Find Missing Element\n",
    "def findMissing(arr, N):\n",
    "\n",
    "\t# create a list of zeroes\n",
    "\ttemp = [0] * (N+1)\n",
    "\n",
    "\tfor i in range(0, N):\n",
    "\t\ttemp[arr[i] - 1] = 1\n",
    "\n",
    "\tfor i in range(0, N+1):\n",
    "\t\tif(temp[i] == 0):\n",
    "\t\t\tans = i + 1\n",
    "\n",
    "\tprint(ans)\n",
    "\n",
    "# Driver code\n",
    "if __name__ == '__main__':\n",
    "\tarr = [1,2,4,6,3,7,8]\n",
    "\tN = len(arr)\n",
    "\n",
    "\t# Function call\n",
    "\tfindMissing(arr, N)\n"
   ]
  },
  {
   "cell_type": "code",
   "execution_count": 4,
   "id": "c79fc4b2-edc4-4760-9ef7-8ab6a363aeec",
   "metadata": {},
   "outputs": [
    {
     "name": "stdout",
     "output_type": "stream",
     "text": [
      "3\n"
     ]
    }
   ],
   "source": [
    "# Problem 3 : Given an array of n positive numbers. All numbers occurs even number of times except 1 which\n",
    "# occurs odd number of times. Find that number in O(n) time and O(1) space. Ex: [1,2,3,2,3,1,3]. 3 is repeats odd\n",
    "# times.\n",
    "\n",
    "# odd number of times\n",
    "\t\n",
    "# function to find the element occurring odd\n",
    "# number of times\n",
    "def getOddOccurrence(arr, arr_size):\n",
    "\t\n",
    "\tfor i in range(0,arr_size):\n",
    "\t\tcount = 0\n",
    "\t\tfor j in range(0, arr_size):\n",
    "\t\t\tif arr[i] == arr[j]:\n",
    "\t\t\t\tcount+=1\n",
    "\t\t\t\n",
    "\t\tif (count % 2 != 0):\n",
    "\t\t\treturn arr[i]\n",
    "\t\t\n",
    "\treturn -1\n",
    "\t\n",
    "\t\n",
    "# driver code \n",
    "arr = [1,2,3,2,3,1,3]\n",
    "n = len(arr)\n",
    "print(getOddOccurrence(arr, n))\n"
   ]
  },
  {
   "cell_type": "code",
   "execution_count": 5,
   "id": "ff94f43b-1e32-4365-af58-37445aaabf93",
   "metadata": {},
   "outputs": [
    {
     "name": "stdout",
     "output_type": "stream",
     "text": [
      "Yes\n"
     ]
    }
   ],
   "source": [
    "# Problem 4 : Given an array of n elements. Find two elements in the array such that their sum is equal to given\n",
    "# element K.\n",
    "\n",
    "# Function to find and print pair\n",
    "\n",
    "def chkPair(A, size, x):\n",
    "\tfor i in range(0, size - 1):\n",
    "\t\tfor j in range(i + 1, size):\n",
    "\t\t\tif (A[i] + A[j] == x):\n",
    "\t\t\t\treturn 1\n",
    "\treturn 0\n",
    "\n",
    "\n",
    "if __name__ == \"__main__\":\n",
    "\tA = [0, -1, 2, -3, 1]\n",
    "\tx = -2\n",
    "\tsize = len(A)\n",
    "\n",
    "\tif (chkPair(A, size, x)):\n",
    "\t\tprint(\"Yes\")\n",
    "\n",
    "\telse:\n",
    "\t\tprint(\"No\")\n"
   ]
  },
  {
   "cell_type": "code",
   "execution_count": 6,
   "id": "3a803d70-91b4-4b81-9518-58a331f1a280",
   "metadata": {},
   "outputs": [
    {
     "name": "stdout",
     "output_type": "stream",
     "text": [
      "The two elements whose sum is minimum are -80 and  85\n"
     ]
    }
   ],
   "source": [
    "# Problem 5 : Given an array of both positive and negative numbers, find two numbers such that their sum is\n",
    "# closest to 0. Ex: [ 1 ,60 ,-10, 70, -80,85]. Ans : -80,85.\n",
    "\n",
    "def minAbsSumPair(arr,arr_size):\n",
    "\tinv_count = 0\n",
    "\n",
    "\t# Array should have at least\n",
    "\t# two elements\n",
    "\tif arr_size < 2:\n",
    "\t\tprint(\"Invalid Input\")\n",
    "\t\treturn\n",
    "\n",
    "\t# Initialization of values \n",
    "\tmin_l = 0\n",
    "\tmin_r = 1\n",
    "\tmin_sum = arr[0] + arr[1]\n",
    "\tfor l in range (0, arr_size - 1):\n",
    "\t\tfor r in range (l + 1, arr_size):\n",
    "\t\t\tsum = arr[l] + arr[r]\t\t\t\t \n",
    "\t\t\tif abs(min_sum) > abs(sum):\t\t \n",
    "\t\t\t\tmin_sum = sum\n",
    "\t\t\t\tmin_l = l\n",
    "\t\t\t\tmin_r = r\n",
    "\n",
    "\tprint(\"The two elements whose sum is minimum are\", \n",
    "\t\t\tarr[min_l], \"and \", arr[min_r])\n",
    "\n",
    "# Driver program to test above function \n",
    "arr = [1 ,60 ,-10, 70, -80, 85]\n",
    "\n",
    "minAbsSumPair(arr, 6);\n"
   ]
  },
  {
   "cell_type": "code",
   "execution_count": 7,
   "id": "2d25264d-b86b-4960-83e2-870c0f478095",
   "metadata": {},
   "outputs": [
    {
     "name": "stdout",
     "output_type": "stream",
     "text": [
      "2\n"
     ]
    }
   ],
   "source": [
    "# Problem 6 : Given an array of n elements . Find three elements such that their sum is equal to the given number.\n",
    "\n",
    "# Python3 implementation of the above approach\n",
    "import sys\n",
    "\n",
    "# Function to return the sum of a\n",
    "# triplet which is closest to x\n",
    "def solution(arr, x):\n",
    "\n",
    "\t# To store the closest sum\n",
    "\tclosestSum = sys.maxsize\n",
    "\n",
    "\t# Run three nested loops each loop \n",
    "\t# for each element of triplet\n",
    "\tfor i in range (len(arr)) :\n",
    "\t\tfor j in range(i + 1, len(arr)):\n",
    "\t\t\tfor k in range(j + 1, len( arr)):\n",
    "\t\t\t\n",
    "\t\t\t\t# Update the closestSum\n",
    "\t\t\t\tif(abs(x - closestSum) > \n",
    "\t\t\t\tabs(x - (arr[i] +\n",
    "\t\t\t\tarr[j] + arr[k]))):\n",
    "\t\t\t\t\tclosestSum = (arr[i] +\n",
    "\t\t\t\t\t\t\t\t\tarr[j] + arr[k])\n",
    "\t\t\t\n",
    "\t# Return the closest sum found\n",
    "\treturn closestSum\n",
    "\n",
    "# Driver code\n",
    "if __name__ == \"__main__\":\n",
    "\t\n",
    "\tarr = [ -1, 2, 1, -4 ]\n",
    "\tx = 1\n",
    "\t\n",
    "\tprint(solution(arr, x))\n"
   ]
  },
  {
   "cell_type": "code",
   "execution_count": 8,
   "id": "4aceb271-8542-4630-a76c-62961fc2e6a7",
   "metadata": {},
   "outputs": [
    {
     "name": "stdout",
     "output_type": "stream",
     "text": [
      "4\n"
     ]
    }
   ],
   "source": [
    "# Problem 7 : Given an array of n elements . Find three elements i, j, k in the array such that i * i + j * j = k*k.\n",
    "\n",
    "def CountTriplets(arr, n):\n",
    "\n",
    "\tcnt = 0;\n",
    "\n",
    "\tfor i in range(0, n):\n",
    "\t\tfor j in range(i + 1, n):\n",
    "\t\t\tfor k in range(j + 1, n):\n",
    "\n",
    "\t\t\t\t# If it satisfy the\n",
    "\t\t\t\t# given conditions\n",
    "\t\t\t\tif (arr[k] < arr[i] and arr[i] < arr[j]):\n",
    "\t\t\t\t\tcnt += 1;\n",
    "\t\t\t\t\n",
    "\t# Return the final count\n",
    "\treturn cnt;\n",
    "\n",
    "# Driver Code\n",
    "\n",
    "# Given array arr[]\n",
    "arr = [ 2, 5, 1, 3, 0 ];\n",
    "\n",
    "n = len(arr);\n",
    "\n",
    "# Function Call\n",
    "print(CountTriplets(arr, n))\n"
   ]
  },
  {
   "cell_type": "code",
   "execution_count": 9,
   "id": "b664d0b3-04e7-43f1-ae58-c6cc353af4f0",
   "metadata": {},
   "outputs": [
    {
     "name": "stdout",
     "output_type": "stream",
     "text": [
      "1\n"
     ]
    }
   ],
   "source": [
    "# Problem 8 : An element is a majority if it appears more than n/2 times. Give an algorithm takes an array of n\n",
    "# element as argument and identifies a majority (if it exists).\n",
    "\n",
    "# Function to find Majority\n",
    "# element in an array\n",
    "\n",
    "\n",
    "def findMajority(arr, n):\n",
    "\n",
    "\tmaxCount = 0\n",
    "\tindex = -1 # sentinels\n",
    "\tfor i in range(n):\n",
    "\n",
    "\t\tcount = 1\n",
    "\t\t# here we compare the element in \n",
    "\t\t# ith position with i+1th position\n",
    "\t\tfor j in range(i+1, n):\n",
    "\n",
    "\t\t\tif(arr[i] == arr[j]):\n",
    "\t\t\t\tcount += 1\n",
    "\n",
    "\t\t# update maxCount if count of\n",
    "\t\t# current element is greater\n",
    "\t\tif(count > maxCount):\n",
    "\n",
    "\t\t\tmaxCount = count\n",
    "\t\t\tindex = i\n",
    "\n",
    "\t# if maxCount is greater than n/2\n",
    "\t# return the corresponding element\n",
    "\tif (maxCount > n//2):\n",
    "\t\tprint(arr[index])\n",
    "\n",
    "\telse:\n",
    "\t\tprint(\"No Majority Element\")\n",
    "\n",
    "\n",
    "# Driver code\n",
    "if __name__ == \"__main__\":\n",
    "\tarr = [1, 1, 2, 1, 3, 5, 1]\n",
    "\tn = len(arr)\n",
    "\n",
    "\t# Function calling\n",
    "\tfindMajority(arr, n)\n"
   ]
  },
  {
   "cell_type": "code",
   "execution_count": 10,
   "id": "dce283f9-0e60-446d-b05c-39e41c221df1",
   "metadata": {},
   "outputs": [
    {
     "name": "stdout",
     "output_type": "stream",
     "text": [
      "Index of row with maximum 1s is 2\n"
     ]
    }
   ],
   "source": [
    "# Problem 9 : Given n × n matrix, and in each row all 1’s are followed by 0’s. Find the row with the maximum \n",
    "# number of 0’s.\n",
    "\n",
    "# Python implementation of the approach\n",
    "R,C = 4,4\n",
    "\n",
    "# Function to find the index of first index \n",
    "# of 1 in a boolean array arr \n",
    "def first(arr , low , high): \n",
    "\n",
    "\tif(high >= low): \n",
    "\n",
    "\t\t# Get the middle index \n",
    "\t\tmid = low + (high - low)//2\n",
    "\t\n",
    "\t\t# Check if the element at middle index is first 1 \n",
    "\t\tif ( ( mid == 0 or arr[mid-1] == 0) and arr[mid] == 1): \n",
    "\t\t\treturn mid \n",
    "\t\n",
    "\t\t# If the element is 0, recur for right side \n",
    "\t\telif (arr[mid] == 0): \n",
    "\t\t\treturn first(arr, (mid + 1), high); \n",
    "\t\t\n",
    "\t\t# If element is not first 1, recur for left side \n",
    "\t\telse:\n",
    "\t\t\treturn first(arr, low, (mid -1)); \n",
    "\n",
    "\treturn -1\n",
    "\n",
    "# Function that returns index of row \n",
    "# with maximum number of 1s. \n",
    "def rowWithMax1s(mat): \n",
    "\n",
    "\t# Initialize max values \n",
    "\tmax_row_index,Max = 0,-1\n",
    "\n",
    "\t# Traverse for each row and count number of 1s \n",
    "\t# by finding the index of first 1 \n",
    "\tfor i in range(R):\n",
    "\n",
    "\t\tindex = first (mat[i], 0, C-1)\n",
    "\t\tif (index != -1 and C-index > Max):\n",
    "\t\t\tMax = C - index; \n",
    "\t\t\tmax_row_index = i\n",
    "\n",
    "\treturn max_row_index \n",
    "\n",
    "# Driver Code\n",
    "mat = [[0, 0, 0, 1], \n",
    "\t[0, 1, 1, 1], \n",
    "\t[1, 1, 1, 1], \n",
    "\t[0, 0, 0, 0]]\n",
    "print(\"Index of row with maximum 1s is \" + str(rowWithMax1s(mat)))\n"
   ]
  },
  {
   "cell_type": "code",
   "execution_count": 12,
   "id": "0548f799-3790-4467-8645-a53da2b9c75a",
   "metadata": {},
   "outputs": [
    {
     "name": "stdout",
     "output_type": "stream",
     "text": [
      "0 0 0 0 0 1 1 1 1 1 2 2 "
     ]
    }
   ],
   "source": [
    "# Problem 10 : Sort an array of 0’s, 1’s and 2’s [or R’s, G’s and B’s]: Given an array A[] consisting of 0’s, 1’s and\n",
    "# 2’s, give an algorithm for sorting A[].The algorithm should put all 0’s first, then all 1’s and finally all 2’s at the\n",
    "# end. Example Input = {0,1,1,0,1,2,1,2,0,0,0,1}, Output = {0,0,0,0,0,1,1,1,1,1,2,2}\n",
    "\n",
    "# Function to sort array\n",
    "\n",
    "def sort012(a, arr_size):\n",
    "\tlo = 0\n",
    "\thi = arr_size - 1\n",
    "\tmid = 0\n",
    "\t# Iterate till all the elements\n",
    "\t# are sorted\n",
    "\twhile mid <= hi:\n",
    "\t\t# If the element is 0\n",
    "\t\tif a[mid] == 0:\n",
    "\t\t\ta[lo], a[mid] = a[mid], a[lo]\n",
    "\t\t\tlo = lo + 1\n",
    "\t\t\tmid = mid + 1\n",
    "\t\t# If the element is 1\n",
    "\t\telif a[mid] == 1:\n",
    "\t\t\tmid = mid + 1\n",
    "\t\t# If the element is 2\n",
    "\t\telse:\n",
    "\t\t\ta[mid], a[hi] = a[hi], a[mid]\n",
    "\t\t\thi = hi - 1\n",
    "\treturn a\n",
    "\n",
    "# Function to print array\n",
    "\n",
    "\n",
    "def printArray(a):\n",
    "\tfor k in a:\n",
    "\t\tprint(k, end=' ')\n",
    "\n",
    "\n",
    "# Driver Program\n",
    "arr = [0,1,1,0,1,2,1,2,0,0,0,1]\n",
    "arr_size = len(arr)\n",
    "arr = sort012(arr, arr_size)\n",
    "printArray(arr)\n"
   ]
  },
  {
   "cell_type": "code",
   "execution_count": null,
   "id": "aa2cc695-544b-4576-85f3-96958dd86c2b",
   "metadata": {},
   "outputs": [],
   "source": []
  },
  {
   "cell_type": "code",
   "execution_count": null,
   "id": "002e3c31-00af-4241-90fd-fe297f00a037",
   "metadata": {},
   "outputs": [],
   "source": []
  }
 ],
 "metadata": {
  "kernelspec": {
   "display_name": "Python 3 (ipykernel)",
   "language": "python",
   "name": "python3"
  },
  "language_info": {
   "codemirror_mode": {
    "name": "ipython",
    "version": 3
   },
   "file_extension": ".py",
   "mimetype": "text/x-python",
   "name": "python",
   "nbconvert_exporter": "python",
   "pygments_lexer": "ipython3",
   "version": "3.10.8"
  }
 },
 "nbformat": 4,
 "nbformat_minor": 5
}
